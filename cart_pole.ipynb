{
 "cells": [
  {
   "cell_type": "markdown",
   "metadata": {},
   "source": [
    "## Cart-Pole game using Deep Q learning\n",
    "\n",
    "**1. Importing necessary packages**"
   ]
  },
  {
   "cell_type": "code",
   "execution_count": 15,
   "metadata": {},
   "outputs": [],
   "source": [
    "import gym\n",
    "import random\n",
    "import numpy as np\n",
    "from collections import deque\n",
    "from keras.models import Sequential\n",
    "from keras.layers import Dense\n",
    "from keras.optimizers import Adam\n"
   ]
  },
  {
   "cell_type": "markdown",
   "metadata": {},
   "source": [
    "**2. Creating the environment**"
   ]
  },
  {
   "cell_type": "code",
   "execution_count": 16,
   "metadata": {},
   "outputs": [],
   "source": [
    "env = gym.make('CartPole-v1')"
   ]
  },
  {
   "cell_type": "markdown",
   "metadata": {},
   "source": [
    "**3. Various parameters** "
   ]
  },
  {
   "cell_type": "code",
   "execution_count": 17,
   "metadata": {},
   "outputs": [],
   "source": [
    "memory = deque(maxlen=5000)\n",
    "gamma  = 0.85\n",
    "exploration_rate = 1.0\n",
    "exploration_min = 0.001\n",
    "exploration_decay = 0.995\n",
    "\n",
    "state_size = env.observation_space.shape[0]\n",
    "action_size = env.action_space.n\n",
    "\n",
    "#if you want to use pre trained weights make it True\n",
    "test_cart = True"
   ]
  },
  {
   "cell_type": "markdown",
   "metadata": {},
   "source": [
    "**4. Neural Network Model**"
   ]
  },
  {
   "cell_type": "code",
   "execution_count": 18,
   "metadata": {},
   "outputs": [],
   "source": [
    "model = Sequential()\n",
    "model.add(Dense(24, input_dim=state_size, activation='relu'))\n",
    "model.add(Dense(24, activation='relu'))\n",
    "model.add(Dense(action_size, activation='linear'))\n",
    "model.compile(loss='mse', optimizer=Adam(lr=0.002))\n",
    "\n",
    "if test_cart == True:\n",
    "    try:\n",
    "        model.load_weights(\"cart_pole_weights.h5\")\n",
    "        exploration_rate = exploration_min\n",
    "    except:\n",
    "        print(\"No weights present\")\n"
   ]
  },
  {
   "cell_type": "markdown",
   "metadata": {},
   "source": [
    "**5. Some utility functions**"
   ]
  },
  {
   "cell_type": "code",
   "execution_count": 19,
   "metadata": {},
   "outputs": [],
   "source": [
    "def get_action(state):\n",
    "    '''\n",
    "    function to decide whether to explore or exploit using greedy epsilon method\n",
    "    '''\n",
    "    if np.random.rand() <= exploration_rate:\n",
    "        return random.randrange(action_size)\n",
    "    else:\n",
    "        return np.argmax(model.predict(state)[0])\n",
    "\n",
    "def add_to_memory(mem):\n",
    "    memory.append(mem)\n",
    "    \n",
    "\n",
    "def train_using_replay(batch_size):\n",
    "    global exploration_rate\n",
    "    minibatch = random.sample(memory, batch_size)\n",
    "    for state, action, reward, next_state, done in minibatch:\n",
    "        target = reward\n",
    "        if not done:\n",
    "            target = (reward + gamma*np.amax(model.predict(next_state)[0]))\n",
    "        target_f = model.predict(state)\n",
    "        target_f[0][action] = target\n",
    "        model.fit(state, target_f, epochs=1, verbose=0)\n",
    "    if exploration_rate > exploration_min:\n",
    "        exploration_rate *= exploration_decay\n"
   ]
  },
  {
   "cell_type": "markdown",
   "metadata": {},
   "source": [
    "**6. Final run**"
   ]
  },
  {
   "cell_type": "code",
   "execution_count": null,
   "metadata": {},
   "outputs": [],
   "source": [
    "num_episodes = 600\n",
    "batch_size = 32\n",
    "show_game = True\n",
    "done = False\n",
    "\n",
    "for episode in range(num_episodes):\n",
    "    done = False\n",
    "    state = np.reshape(env.reset(), [1, state_size])\n",
    "    i = 1\n",
    "    while not done:\n",
    "        if show_game:\n",
    "            env.render()\n",
    "        action = get_action(state)\n",
    "        state_next, reward, done, _ = env.step(action)\n",
    "        state_next = np.reshape(state_next, [1, state_size])\n",
    "        add_to_memory((state, action, reward, state_next, done))\n",
    "        if done and episode % 10 == 0:\n",
    "            print(\"{}/{} total reward: {}, epsilon: {:.2}\".format(episode, num_episodes, i, exploration_rate))\n",
    "            break\n",
    "        state = state_next\n",
    "        i = i+1\n",
    "\n",
    "    if len(memory) > batch_size:\n",
    "        train_using_replay(batch_size)"
   ]
  },
  {
   "cell_type": "code",
   "execution_count": 21,
   "metadata": {},
   "outputs": [],
   "source": [
    "model.save_weights(\"cart_pole_weights.h5\")"
   ]
  },
  {
   "cell_type": "code",
   "execution_count": null,
   "metadata": {},
   "outputs": [],
   "source": []
  }
 ],
 "metadata": {
  "kernelspec": {
   "display_name": "Python 3",
   "language": "python",
   "name": "python3"
  },
  "language_info": {
   "codemirror_mode": {
    "name": "ipython",
    "version": 3
   },
   "file_extension": ".py",
   "mimetype": "text/x-python",
   "name": "python",
   "nbconvert_exporter": "python",
   "pygments_lexer": "ipython3",
   "version": "3.5.2"
  }
 },
 "nbformat": 4,
 "nbformat_minor": 2
}
